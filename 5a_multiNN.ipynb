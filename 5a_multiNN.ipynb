{
 "cells": [
  {
   "cell_type": "code",
   "execution_count": 1,
   "id": "9673a1d0-43e9-4e36-8900-36467ee030c8",
   "metadata": {},
   "outputs": [],
   "source": [
    "# created with love in cooperation with ASPIS\n",
    "from tensorflow import keras\n",
    "from keras.preprocessing.sequence import TimeseriesGenerator\n",
    "from keras.models import Sequential\n",
    "from keras.layers import Dense, Activation, Dropout, Input, Conv1D, LSTM, MaxPooling1D, Flatten, concatenate, TimeDistributed, Bidirectional, ConvLSTM2D\n",
    "from tensorflow.keras.callbacks import ModelCheckpoint, EarlyStopping\n",
    "from keras.models import Model\n",
    "import matplotlib.pyplot as plt\n",
    "\n",
    "from sklearn.metrics import confusion_matrix, classification_report, mean_absolute_error\n",
    "import os\n",
    "import numpy as np"
   ]
  },
  {
   "cell_type": "markdown",
   "id": "382c6870-2c5e-4de9-b4fb-6a44401baffa",
   "metadata": {},
   "source": [
    "# Load data"
   ]
  },
  {
   "cell_type": "code",
   "execution_count": 2,
   "id": "b902e04e-8eb2-418f-8b5d-915db45aca94",
   "metadata": {},
   "outputs": [],
   "source": [
    "f_name = \"full-multinn/shift-15-windows-45\"\n",
    "feature_name = \"Kp_index\""
   ]
  },
  {
   "cell_type": "code",
   "execution_count": 3,
   "id": "3e4d3375-a8c7-489a-9419-2d7fc642c05e",
   "metadata": {},
   "outputs": [],
   "source": [
    "X_train = np.load(f'../data-preparation/{f_name}/X_train.npy',allow_pickle=True).item()\n",
    "y_train = np.load(f'../data-preparation/{f_name}/y_train.npy') #data/lightning/ASPIS/data-preparation/archive/13500-13504.parquet.gzip/shift-15-windows-15/X_train.npy"
   ]
  },
  {
   "cell_type": "code",
   "execution_count": 4,
   "id": "d7ff553f-393c-4354-9fd9-114dca89e0f6",
   "metadata": {},
   "outputs": [],
   "source": [
    "Phi60_Sig1 = X_train[\"Phi60_Sig1\"]\n",
    "feature = X_train[feature_name]"
   ]
  },
  {
   "cell_type": "markdown",
   "id": "38ad47eb-bfff-4a3b-a866-cdbf596c77e2",
   "metadata": {},
   "source": [
    "# Model"
   ]
  },
  {
   "cell_type": "code",
   "execution_count": 5,
   "id": "97302f3b-4a2c-4453-8a99-a8985479b306",
   "metadata": {
    "collapsed": true,
    "jupyter": {
     "outputs_hidden": true
    },
    "tags": []
   },
   "outputs": [
    {
     "name": "stdout",
     "output_type": "stream",
     "text": [
      "WARNING:tensorflow:Layer lstm will not use cuDNN kernels since it doesn't meet the criteria. It will use a generic GPU kernel as fallback when running on GPU.\n",
      "WARNING:tensorflow:Layer lstm will not use cuDNN kernels since it doesn't meet the criteria. It will use a generic GPU kernel as fallback when running on GPU.\n",
      "WARNING:tensorflow:Layer lstm will not use cuDNN kernels since it doesn't meet the criteria. It will use a generic GPU kernel as fallback when running on GPU.\n"
     ]
    },
    {
     "name": "stderr",
     "output_type": "stream",
     "text": [
      "2023-01-20 08:08:09.406882: I tensorflow/core/common_runtime/gpu/gpu_device.cc:1532] Created device /job:localhost/replica:0/task:0/device:GPU:0 with 6233 MB memory:  -> device: 0, name: Quadro P4000, pci bus id: 0000:8b:00.0, compute capability: 6.1\n"
     ]
    },
    {
     "name": "stdout",
     "output_type": "stream",
     "text": [
      "WARNING:tensorflow:Layer lstm_1 will not use cuDNN kernels since it doesn't meet the criteria. It will use a generic GPU kernel as fallback when running on GPU.\n",
      "WARNING:tensorflow:Layer lstm_1 will not use cuDNN kernels since it doesn't meet the criteria. It will use a generic GPU kernel as fallback when running on GPU.\n",
      "WARNING:tensorflow:Layer lstm_1 will not use cuDNN kernels since it doesn't meet the criteria. It will use a generic GPU kernel as fallback when running on GPU.\n",
      "Model: \"model_2\"\n",
      "__________________________________________________________________________________________________\n",
      " Layer (type)                   Output Shape         Param #     Connected to                     \n",
      "==================================================================================================\n",
      " input_2 (InputLayer)           [(None, 45, 1)]      0           []                               \n",
      "                                                                                                  \n",
      " input_1 (InputLayer)           [(None, 45, 1)]      0           []                               \n",
      "                                                                                                  \n",
      " bidirectional (Bidirectional)  (None, 128)          33792       ['input_2[0][0]']                \n",
      "                                                                                                  \n",
      " bidirectional_1 (Bidirectional  (None, 128)         33792       ['input_1[0][0]']                \n",
      " )                                                                                                \n",
      "                                                                                                  \n",
      " dense (Dense)                  (None, 32)           4128        ['bidirectional[0][0]']          \n",
      "                                                                                                  \n",
      " dense_1 (Dense)                (None, 32)           4128        ['bidirectional_1[0][0]']        \n",
      "                                                                                                  \n",
      " concatenate (Concatenate)      (None, 64)           0           ['dense[0][0]',                  \n",
      "                                                                  'dense_1[0][0]']                \n",
      "                                                                                                  \n",
      " dense_2 (Dense)                (None, 32)           2080        ['concatenate[0][0]']            \n",
      "                                                                                                  \n",
      " dropout (Dropout)              (None, 32)           0           ['dense_2[0][0]']                \n",
      "                                                                                                  \n",
      " dense_3 (Dense)                (None, 32)           1056        ['dropout[0][0]']                \n",
      "                                                                                                  \n",
      " dense_4 (Dense)                (None, 1)            33          ['dense_3[0][0]']                \n",
      "                                                                                                  \n",
      "==================================================================================================\n",
      "Total params: 79,009\n",
      "Trainable params: 79,009\n",
      "Non-trainable params: 0\n",
      "__________________________________________________________________________________________________\n",
      "None\n"
     ]
    }
   ],
   "source": [
    "input_feature = Input(shape=(feature.shape[1],1))\n",
    "input_Phi60 = Input(shape=(Phi60_Sig1.shape[1],1))\n",
    "\n",
    "a = Bidirectional(LSTM(64,dropout=0.1,recurrent_dropout=0.1))(input_Phi60)\n",
    "a = Dense(32, activation='relu')(a)\n",
    "a = Model(inputs=input_Phi60, outputs=a)\n",
    "\n",
    "b = Bidirectional(LSTM(64,dropout=0.1,recurrent_dropout=0.1))(input_feature)\n",
    "b = Dense(32, activation='relu')(b)\n",
    "b = Model(inputs=input_feature, outputs=b)\n",
    "\n",
    "x = concatenate([a.output, b.output])\n",
    "x = Dense(32, activation='relu')(x)\n",
    "x = Dropout(0.2)(x)\n",
    "x = Dense(32, activation='relu')(x)\n",
    "\n",
    "output = Dense(1, activation='linear')(x)\n",
    "\n",
    "classifier = Model(inputs=[a.input, b.input], outputs=output)\n",
    "classifier.compile(loss='mse', optimizer='adam', metrics=[\"mae\"])\n",
    "print(classifier.summary())"
   ]
  },
  {
   "cell_type": "code",
   "execution_count": 6,
   "id": "16b4b633-e258-45a3-ba9b-bd08e512a7a1",
   "metadata": {},
   "outputs": [],
   "source": [
    "# callbacks\n",
    "os.makedirs(f_name, exist_ok=True)\n",
    "saved_model = \"{}/epoch-{epoch:02d}-mae-{val_mae:.4f}.hdf5\".format(feature_name)\n",
    "checkpoint = ModelCheckpoint(f_name+\"/multiNN\"+saved_model, monitor='val_mae', verbose=1, save_freq=\"epoch\")\n",
    "callbacks_list = [checkpoint]"
   ]
  },
  {
   "cell_type": "code",
   "execution_count": 7,
   "id": "949f8124-6e18-4bd7-85c5-52ef9eac378f",
   "metadata": {
    "collapsed": true,
    "jupyter": {
     "outputs_hidden": true
    },
    "tags": []
   },
   "outputs": [
    {
     "name": "stdout",
     "output_type": "stream",
     "text": [
      "Epoch 1/5\n",
      "5724/5724 [==============================] - ETA: 0s - loss: 0.0149 - mae: 0.0673\n",
      "Epoch 1: saving model to full-multinn/shift-15-windows-45/multiNN/epoch-01-mae-0.0563.hdf5\n",
      "5724/5724 [==============================] - 3095s 539ms/step - loss: 0.0149 - mae: 0.0673 - val_loss: 0.0070 - val_mae: 0.0563\n",
      "Epoch 2/5\n",
      "5724/5724 [==============================] - ETA: 0s - loss: 0.0147 - mae: 0.0664\n",
      "Epoch 2: saving model to full-multinn/shift-15-windows-45/multiNN/epoch-02-mae-0.0556.hdf5\n",
      "5724/5724 [==============================] - 3073s 537ms/step - loss: 0.0147 - mae: 0.0664 - val_loss: 0.0070 - val_mae: 0.0556\n",
      "Epoch 3/5\n",
      "5724/5724 [==============================] - ETA: 0s - loss: 0.0147 - mae: 0.0661\n",
      "Epoch 3: saving model to full-multinn/shift-15-windows-45/multiNN/epoch-03-mae-0.0542.hdf5\n",
      "5724/5724 [==============================] - 3077s 538ms/step - loss: 0.0147 - mae: 0.0661 - val_loss: 0.0069 - val_mae: 0.0542\n",
      "Epoch 4/5\n",
      "5724/5724 [==============================] - ETA: 0s - loss: 0.0147 - mae: 0.0658\n",
      "Epoch 4: saving model to full-multinn/shift-15-windows-45/multiNN/epoch-04-mae-0.0585.hdf5\n",
      "5724/5724 [==============================] - 3066s 536ms/step - loss: 0.0147 - mae: 0.0658 - val_loss: 0.0072 - val_mae: 0.0585\n",
      "Epoch 5/5\n",
      "5724/5724 [==============================] - ETA: 0s - loss: 0.0146 - mae: 0.0658\n",
      "Epoch 5: saving model to full-multinn/shift-15-windows-45/multiNN/epoch-05-mae-0.0557.hdf5\n",
      "5724/5724 [==============================] - 3080s 538ms/step - loss: 0.0146 - mae: 0.0658 - val_loss: 0.0070 - val_mae: 0.0557\n"
     ]
    }
   ],
   "source": [
    "history = classifier.fit(\n",
    "    x=[Phi60_Sig1, feature], \n",
    "    y=y_train, \n",
    "    validation_split=0.1, \n",
    "    epochs=5, \n",
    "    verbose=1, \n",
    "    callbacks=callbacks_list, \n",
    "    shuffle = True\n",
    ")"
   ]
  }
 ],
 "metadata": {
  "kernelspec": {
   "display_name": "Python 3 (ipykernel)",
   "language": "python",
   "name": "python3"
  },
  "language_info": {
   "codemirror_mode": {
    "name": "ipython",
    "version": 3
   },
   "file_extension": ".py",
   "mimetype": "text/x-python",
   "name": "python",
   "nbconvert_exporter": "python",
   "pygments_lexer": "ipython3",
   "version": "3.10.6"
  }
 },
 "nbformat": 4,
 "nbformat_minor": 5
}
