{
 "cells": [
  {
   "cell_type": "code",
   "execution_count": null,
   "metadata": {
    "collapsed": true,
    "jupyter": {
     "outputs_hidden": true
    },
    "scrolled": true,
    "tags": []
   },
   "outputs": [],
   "source": [
    "!pip install aidapy\n",
    "!pip install heliopy==0.15.4\n",
    "!pip install h5netcdf"
   ]
  },
  {
   "cell_type": "code",
   "execution_count": null,
   "metadata": {
    "collapsed": true,
    "jupyter": {
     "outputs_hidden": true
    },
    "scrolled": true,
    "tags": []
   },
   "outputs": [],
   "source": [
    "!pip install --upgrade xarray==2022.3.0"
   ]
  },
  {
   "cell_type": "code",
   "execution_count": 2,
   "metadata": {},
   "outputs": [],
   "source": [
    "# created with love in cooperation with ASPIS\n",
    "from aidapy import load_data\n",
    "import pandas as pd\n",
    "from datetime import datetime"
   ]
  },
  {
   "cell_type": "code",
   "execution_count": null,
   "metadata": {
    "collapsed": true,
    "jupyter": {
     "outputs_hidden": true
    },
    "scrolled": true,
    "tags": []
   },
   "outputs": [],
   "source": [
    "t0 = datetime(2000, 1, 1)\n",
    "t1 = datetime(2021, 12, 31)\n",
    "omnixr = load_data(mission='omni', start_time=t0, end_time=t1)"
   ]
  },
  {
   "cell_type": "code",
   "execution_count": 6,
   "metadata": {},
   "outputs": [],
   "source": [
    "aida1 = pd.read_csv('data1-3/160422_aida.csv')\n",
    "aida1=aida1.set_index(aida1['time1'])"
   ]
  },
  {
   "cell_type": "code",
   "execution_count": 8,
   "metadata": {},
   "outputs": [],
   "source": [
    "aida2=pd.read_csv(\"data1-3/160522_aida.csv\")\n",
    "aida2=aida2.set_index(aida2['time1'])"
   ]
  },
  {
   "cell_type": "code",
   "execution_count": 11,
   "metadata": {},
   "outputs": [],
   "source": [
    "aida3=pd.read_csv(\"data1-3/310522_aida.csv\")\n",
    "aida3=aida3.set_index(aida3['time1'])"
   ]
  },
  {
   "cell_type": "code",
   "execution_count": 26,
   "metadata": {},
   "outputs": [],
   "source": [
    "web1 = pd.read_csv('data1-3/160422_web.csv')\n",
    "web1=web1.set_index(web1['datetime'])"
   ]
  },
  {
   "cell_type": "code",
   "execution_count": 27,
   "metadata": {},
   "outputs": [],
   "source": [
    "web2=pd.read_csv(\"data1-3/160522_web.csv\")\n",
    "web2=web2.set_index(web2['datetime'])"
   ]
  },
  {
   "cell_type": "code",
   "execution_count": 29,
   "metadata": {},
   "outputs": [],
   "source": [
    "web3=pd.read_csv(\"data1-3/010622_web.csv\")\n",
    "web3=web3.set_index(web3['datetime'])"
   ]
  },
  {
   "cell_type": "code",
   "execution_count": 33,
   "metadata": {},
   "outputs": [],
   "source": [
    "minute_data_nan=pd.read_csv('data/minute_data_nan.csv')\n",
    "minute_data_nan=minute_data_nan.set_index(minute_data_nan['datetime'])"
   ]
  },
  {
   "cell_type": "code",
   "execution_count": 18,
   "metadata": {},
   "outputs": [],
   "source": [
    "solar_indexes=pd.DataFrame()\n",
    "solar_indexes['time1']=aida1['time1']\n",
    "solar_indexes=solar_indexes.set_index(solar_indexes['time1'])"
   ]
  },
  {
   "cell_type": "code",
   "execution_count": 19,
   "metadata": {},
   "outputs": [],
   "source": [
    "solar_indexes['F10.7 index [sfu]']=aida1['F10_INDEX']"
   ]
  },
  {
   "cell_type": "code",
   "execution_count": 20,
   "metadata": {},
   "outputs": [],
   "source": [
    "solar_indexes['R sunspot number']=aida3['R']"
   ]
  },
  {
   "cell_type": "code",
   "execution_count": 22,
   "metadata": {},
   "outputs": [],
   "source": [
    "solar_indexes['Solar Lyman alpha']=aida3['Solar_Lyman_alpha']"
   ]
  },
  {
   "cell_type": "code",
   "execution_count": 54,
   "metadata": {},
   "outputs": [],
   "source": [
    "solar_indexes.to_csv('divided_data/solar_indexes.csv')"
   ]
  },
  {
   "cell_type": "code",
   "execution_count": 23,
   "metadata": {},
   "outputs": [],
   "source": [
    "heliospheric_indexes=pd.DataFrame()\n",
    "heliospheric_indexes['time1']=aida1['time1']\n",
    "heliospheric_indexes=heliospheric_indexes.set_index(heliospheric_indexes['time1'])"
   ]
  },
  {
   "cell_type": "code",
   "execution_count": 24,
   "metadata": {},
   "outputs": [],
   "source": [
    "heliospheric_indexes[['SW Speed [km/s]', 'Plasma beta', 'Alfven Mach number', 'Quasi invariant', 'Magnetosonic Mach number']] = aida3[['V', 'Beta', 'Mach_num', 'Proton_QI', 'Mgs_mach_num']]"
   ]
  },
  {
   "cell_type": "code",
   "execution_count": 30,
   "metadata": {},
   "outputs": [],
   "source": [
    "heliospheric_indexes[['SW plasma flow lat. angle [deg]', 'SW plasma flow long. angle [deg]']]=web3[['SWPlasmaFlowlat.angle', 'SWPlasmaFlowLong.angle']]"
   ]
  },
  {
   "cell_type": "code",
   "execution_count": 34,
   "metadata": {},
   "outputs": [],
   "source": [
    "heliospheric_indexes[['Proton Density [n/cc]']]=web2[['SWProtonDensity']]\n",
    "heliospheric_indexes[['Alpha Proton ratio']]=web3[['AlphaProt.ratio']]\n",
    "heliospheric_indexes[['Proton Temperature [K]', 'Flow Pressure [nPa]', 'Electric Field [mV/m]']]=aida2[['T', 'Pressure', 'E']]"
   ]
  },
  {
   "cell_type": "code",
   "execution_count": 55,
   "metadata": {},
   "outputs": [],
   "source": [
    "heliospheric_indexes.to_csv('divided_data/heliospheric_indexes.csv')"
   ]
  },
  {
   "cell_type": "code",
   "execution_count": 37,
   "metadata": {},
   "outputs": [],
   "source": [
    "heliospheric_indexes_min=pd.DataFrame()\n",
    "heliospheric_indexes_min['time1']=minute_data_nan['datetime']\n",
    "heliospheric_indexes_min=heliospheric_indexes_min.set_index(heliospheric_indexes_min['time1'])"
   ]
  },
  {
   "cell_type": "code",
   "execution_count": 38,
   "metadata": {},
   "outputs": [],
   "source": [
    "heliospheric_indexes_min[['Vx Velocity [km/s]', 'Vy Velocity [km/s]', 'Vz Velocity [km/s]']]=minute_data_nan[['Vx', 'Vy', 'Vz']]"
   ]
  },
  {
   "cell_type": "code",
   "execution_count": 56,
   "metadata": {},
   "outputs": [],
   "source": [
    "heliospheric_indexes_min.to_csv('divided_data/heliospheric_indexes_min.csv')"
   ]
  },
  {
   "cell_type": "code",
   "execution_count": 39,
   "metadata": {},
   "outputs": [],
   "source": [
    "geomagnetic_indexes=pd.DataFrame()\n",
    "geomagnetic_indexes['time1']=aida1['time1']\n",
    "geomagnetic_indexes=geomagnetic_indexes.set_index(geomagnetic_indexes['time1'])"
   ]
  },
  {
   "cell_type": "code",
   "execution_count": 45,
   "metadata": {},
   "outputs": [],
   "source": [
    "geomagnetic_indexes[['Kp index', 'Dst index']]=aida1[['KP', 'DST']]\n",
    "geomagnetic_indexes[['Ap index', 'AU index', 'AL index', 'AE index']]=aida3[['AP_INDEX', 'AU_INDEX', 'AL_INDEX', 'AE']]"
   ]
  },
  {
   "cell_type": "code",
   "execution_count": 50,
   "metadata": {},
   "outputs": [],
   "source": [
    "geomagnetic_indexes[['BX_GSE [nT]', 'BY_GSE [nT]', 'BZ_GSE [nT]']]=aida2[['BX_GSE', 'BY_GSE', 'BZ_GSE']]"
   ]
  },
  {
   "cell_type": "code",
   "execution_count": 58,
   "metadata": {},
   "outputs": [],
   "source": [
    "geomagnetic_indexes[['PC(N) index [mV/m]']]=aida3[['PC_N_INDEX']]"
   ]
  },
  {
   "cell_type": "code",
   "execution_count": 59,
   "metadata": {},
   "outputs": [],
   "source": [
    "geomagnetic_indexes.to_csv('divided_data/geomagnetic_indexes.csv')"
   ]
  },
  {
   "cell_type": "code",
   "execution_count": 51,
   "metadata": {},
   "outputs": [],
   "source": [
    "geomagnetic_indexes_min=pd.DataFrame()\n",
    "geomagnetic_indexes_min['time1']=minute_data_nan['datetime']\n",
    "geomagnetic_indexes_min=geomagnetic_indexes_min.set_index(geomagnetic_indexes_min['time1'])"
   ]
  },
  {
   "cell_type": "code",
   "execution_count": 61,
   "metadata": {},
   "outputs": [],
   "source": [
    "geomagnetic_indexes_min[['BSN Xgse [Re]', 'BSN Ygse [Re]', 'BSN Zgse [Re]', 'ASY/D [nT]', 'ASY/H [nT]', 'SYM/D [nT]', 'SYM/H [nT]']]=minute_data_nan[['BSN_X', 'BSN_Y', 'BSN_Z', 'ASY_D', 'ASY_H', 'SYM_D', 'SYM_H']]"
   ]
  },
  {
   "cell_type": "code",
   "execution_count": 62,
   "metadata": {},
   "outputs": [],
   "source": [
    "geomagnetic_indexes_min.to_csv('divided_data/geomagnetic_indexes_min.csv')"
   ]
  }
 ],
 "metadata": {
  "kernelspec": {
   "display_name": "Python 3 (ipykernel)",
   "language": "python",
   "name": "python3"
  },
  "language_info": {
   "codemirror_mode": {
    "name": "ipython",
    "version": 3
   },
   "file_extension": ".py",
   "mimetype": "text/x-python",
   "name": "python",
   "nbconvert_exporter": "python",
   "pygments_lexer": "ipython3",
   "version": "3.10.6"
  }
 },
 "nbformat": 4,
 "nbformat_minor": 4
}
