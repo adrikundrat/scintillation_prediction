{
 "cells": [
  {
   "cell_type": "code",
   "execution_count": null,
   "id": "9673a1d0-43e9-4e36-8900-36467ee030c8",
   "metadata": {},
   "outputs": [],
   "source": [
    "# created with love in cooperation with ASPIS\n",
    "from tensorflow import keras\n",
    "from keras.preprocessing.sequence import TimeseriesGenerator\n",
    "from keras.models import Sequential\n",
    "from keras.layers import Dense, Activation, Dropout, Input, Conv1D, LSTM, MaxPooling1D, Flatten, concatenate, TimeDistributed, Bidirectional, ConvLSTM2D\n",
    "from tensorflow.keras.callbacks import ModelCheckpoint, EarlyStopping\n",
    "from keras.models import Model\n",
    "import matplotlib.pyplot as plt\n",
    "\n",
    "from sklearn.metrics import confusion_matrix, classification_report, mean_absolute_error\n",
    "import os\n",
    "import numpy as np"
   ]
  },
  {
   "cell_type": "markdown",
   "id": "382c6870-2c5e-4de9-b4fb-6a44401baffa",
   "metadata": {},
   "source": [
    "# Load data"
   ]
  },
  {
   "cell_type": "code",
   "execution_count": 2,
   "id": "b902e04e-8eb2-418f-8b5d-915db45aca94",
   "metadata": {},
   "outputs": [],
   "source": [
    "f_name = \"full-not-divided/shift-15-windows-45\""
   ]
  },
  {
   "cell_type": "code",
   "execution_count": 3,
   "id": "3e4d3375-a8c7-489a-9419-2d7fc642c05e",
   "metadata": {},
   "outputs": [],
   "source": [
    "X_train = np.load(f'../data-preparation/{f_name}/X_train.npy',allow_pickle=True).item()\n",
    "y_train = np.load(f'../data-preparation/{f_name}/y_train.npy')"
   ]
  },
  {
   "cell_type": "code",
   "execution_count": 4,
   "id": "d7ff553f-393c-4354-9fd9-114dca89e0f6",
   "metadata": {},
   "outputs": [],
   "source": [
    "Phi60_Sig1 = X_train[\"Phi60_Sig1\"]"
   ]
  },
  {
   "cell_type": "markdown",
   "id": "38ad47eb-bfff-4a3b-a866-cdbf596c77e2",
   "metadata": {},
   "source": [
    "# Model"
   ]
  },
  {
   "cell_type": "code",
   "execution_count": 5,
   "id": "97302f3b-4a2c-4453-8a99-a8985479b306",
   "metadata": {},
   "outputs": [
    {
     "name": "stdout",
     "output_type": "stream",
     "text": [
      "WARNING:tensorflow:Layer lstm will not use cuDNN kernels since it doesn't meet the criteria. It will use a generic GPU kernel as fallback when running on GPU.\n",
      "WARNING:tensorflow:Layer lstm will not use cuDNN kernels since it doesn't meet the criteria. It will use a generic GPU kernel as fallback when running on GPU.\n",
      "WARNING:tensorflow:Layer lstm will not use cuDNN kernels since it doesn't meet the criteria. It will use a generic GPU kernel as fallback when running on GPU.\n"
     ]
    },
    {
     "name": "stderr",
     "output_type": "stream",
     "text": [
      "2023-01-03 17:08:43.320272: I tensorflow/core/common_runtime/gpu/gpu_device.cc:1532] Created device /job:localhost/replica:0/task:0/device:GPU:0 with 6674 MB memory:  -> device: 0, name: Quadro RTX 4000, pci bus id: 0000:8b:00.0, compute capability: 7.5\n"
     ]
    },
    {
     "name": "stdout",
     "output_type": "stream",
     "text": [
      "Model: \"model\"\n",
      "_________________________________________________________________\n",
      " Layer (type)                Output Shape              Param #   \n",
      "=================================================================\n",
      " input_1 (InputLayer)        [(None, 45, 1)]           0         \n",
      "                                                                 \n",
      " conv1d (Conv1D)             (None, 45, 128)           384       \n",
      "                                                                 \n",
      " bidirectional (Bidirectiona  (None, 256)              263168    \n",
      " l)                                                              \n",
      "                                                                 \n",
      " dense (Dense)               (None, 64)                16448     \n",
      "                                                                 \n",
      " dropout (Dropout)           (None, 64)                0         \n",
      "                                                                 \n",
      " dense_1 (Dense)             (None, 64)                4160      \n",
      "                                                                 \n",
      " dense_2 (Dense)             (None, 32)                2080      \n",
      "                                                                 \n",
      " dense_3 (Dense)             (None, 1)                 33        \n",
      "                                                                 \n",
      "=================================================================\n",
      "Total params: 286,273\n",
      "Trainable params: 286,273\n",
      "Non-trainable params: 0\n",
      "_________________________________________________________________\n",
      "None\n"
     ]
    }
   ],
   "source": [
    "inputs_Phi60_Sig1 = Input(shape=(Phi60_Sig1.shape[1],1))\n",
    "\n",
    "a = Conv1D(128, kernel_size = 2, padding = \"same\")(inputs_Phi60_Sig1)\n",
    "a = Bidirectional(LSTM(128, dropout=0.1,recurrent_dropout=0.1))(a)\n",
    "a = Dense(64, activation='relu')(a)\n",
    "a = Dropout(0.2)(a)\n",
    "a = Dense(64, activation='relu')(a)\n",
    "a = Dense(32, activation='relu')(a)\n",
    "\n",
    "output = Dense(1, activation='linear')(a)\n",
    "\n",
    "model = Model(inputs=inputs_Phi60_Sig1, outputs=output)\n",
    "model.compile(loss='mse', optimizer='adam', metrics=[\"mae\"])\n",
    "print(model.summary())"
   ]
  },
  {
   "cell_type": "code",
   "execution_count": 6,
   "id": "16b4b633-e258-45a3-ba9b-bd08e512a7a1",
   "metadata": {},
   "outputs": [],
   "source": [
    "# callbacks\n",
    "os.makedirs(f_name, exist_ok=True)\n",
    "saved_model = \"/epoch-{epoch:02d}-mae-{val_mae:.4f}.hdf5\"\n",
    "checkpoint = ModelCheckpoint(f_name+\"/autoreg\"+saved_model, monitor='val_mae', verbose=1, save_freq=\"epoch\")\n",
    "callbacks_list = [checkpoint]"
   ]
  },
  {
   "cell_type": "code",
   "execution_count": null,
   "id": "949f8124-6e18-4bd7-85c5-52ef9eac378f",
   "metadata": {},
   "outputs": [
    {
     "name": "stdout",
     "output_type": "stream",
     "text": [
      "Epoch 1/5\n"
     ]
    },
    {
     "name": "stderr",
     "output_type": "stream",
     "text": [
      "2023-01-03 17:09:27.423156: I tensorflow/stream_executor/cuda/cuda_dnn.cc:384] Loaded cuDNN version 8201\n"
     ]
    },
    {
     "name": "stdout",
     "output_type": "stream",
     "text": [
      "10419/45871 [=====>........................] - ETA: 4:25:19 - loss: 0.0149 - mae: 0.0660"
     ]
    }
   ],
   "source": [
    "history = model.fit(\n",
    "    x=Phi60_Sig1, \n",
    "    y=y_train, \n",
    "    validation_split=0.1, \n",
    "    epochs=5, \n",
    "    verbose=1, \n",
    "    callbacks=callbacks_list,\n",
    "    shuffle=True\n",
    ")"
   ]
  },
  {
   "cell_type": "code",
   "execution_count": null,
   "id": "d929b747-cdac-421d-8a49-e4c3ca9b03b9",
   "metadata": {},
   "outputs": [],
   "source": []
  }
 ],
 "metadata": {
  "kernelspec": {
   "display_name": "Python 3 (ipykernel)",
   "language": "python",
   "name": "python3"
  },
  "language_info": {
   "codemirror_mode": {
    "name": "ipython",
    "version": 3
   },
   "file_extension": ".py",
   "mimetype": "text/x-python",
   "name": "python",
   "nbconvert_exporter": "python",
   "pygments_lexer": "ipython3",
   "version": "3.10.6"
  }
 },
 "nbformat": 4,
 "nbformat_minor": 5
}
