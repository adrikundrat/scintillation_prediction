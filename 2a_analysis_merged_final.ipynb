{
 "cells": [
  {
   "cell_type": "code",
   "execution_count": 7,
   "metadata": {},
   "outputs": [],
   "source": [
    "# created with love in cooperation with ASPIS\n",
    "from datetime import datetime as dt\n",
    "import pandas as pd\n",
    "import numpy as np\n",
    "import matplotlib.pyplot as plt\n",
    "import seaborn as sns\n",
    "from datetime import datetime\n",
    "\n",
    "pd.set_option('display.float_format', lambda x: '%.5f' % x)\n",
    "pd.set_option('display.max_rows', 500)\n",
    "pd.set_option('display.max_columns', 500)\n",
    "pd.set_option('display.width', 1000)"
   ]
  },
  {
   "cell_type": "markdown",
   "metadata": {},
   "source": [
    "# final_data_desc"
   ]
  },
  {
   "cell_type": "markdown",
   "metadata": {},
   "source": [
    "### read"
   ]
  },
  {
   "cell_type": "code",
   "execution_count": 8,
   "metadata": {},
   "outputs": [],
   "source": [
    "geomagnetic_indexes=pd.read_csv('divided_data/geomagnetic_indexes_final.csv')\n",
    "heliospheric_indexes=pd.read_csv('divided_data/heliospheric_indexes_final.csv')\n",
    "solar_indexes=pd.read_csv('divided_data/solar_indexes_final.csv')\n",
    "all_indexes=pd.read_csv('divided_data/all_indexes_final.csv')\n",
    "geomagnetic_indexes=geomagnetic_indexes.set_index(geomagnetic_indexes['DateTime'])\n",
    "heliospheric_indexes=heliospheric_indexes.set_index(heliospheric_indexes['DateTime'])\n",
    "solar_indexes=solar_indexes.set_index(solar_indexes['DateTime'])\n",
    "all_indexes=all_indexes.set_index(all_indexes['DateTime'])\n",
    "geomagnetic_indexes.drop(['DateTime'], axis=1, inplace=True)\n",
    "heliospheric_indexes.drop(['DateTime'], axis=1, inplace=True)\n",
    "solar_indexes.drop(['DateTime'], axis=1, inplace=True)\n",
    "all_indexes.drop(['DateTime'],axis=1, inplace=True)\n"
   ]
  },
  {
   "cell_type": "code",
   "execution_count": 11,
   "metadata": {},
   "outputs": [
    {
     "data": {
      "text/html": [
       "<div>\n",
       "<style scoped>\n",
       "    .dataframe tbody tr th:only-of-type {\n",
       "        vertical-align: middle;\n",
       "    }\n",
       "\n",
       "    .dataframe tbody tr th {\n",
       "        vertical-align: top;\n",
       "    }\n",
       "\n",
       "    .dataframe thead th {\n",
       "        text-align: right;\n",
       "    }\n",
       "</style>\n",
       "<table border=\"1\" class=\"dataframe\">\n",
       "  <thead>\n",
       "    <tr style=\"text-align: right;\">\n",
       "      <th></th>\n",
       "      <th>Kp index</th>\n",
       "      <th>Dst index</th>\n",
       "      <th>Ap index</th>\n",
       "      <th>AU index</th>\n",
       "      <th>AL index</th>\n",
       "      <th>AE index</th>\n",
       "      <th>BX_GSE [nT]</th>\n",
       "      <th>BY_GSE [nT]</th>\n",
       "      <th>BZ_GSE [nT]</th>\n",
       "      <th>PC(N) index [mV/m]</th>\n",
       "      <th>BSN Xgse [Re]</th>\n",
       "      <th>BSN Ygse [Re]</th>\n",
       "      <th>BSN Zgse [Re]</th>\n",
       "      <th>ASY/D [nT]</th>\n",
       "      <th>ASY/H [nT]</th>\n",
       "      <th>SYM/D [nT]</th>\n",
       "      <th>SYM/H [nT]</th>\n",
       "      <th>IMF [nT]</th>\n",
       "      <th>SW Speed [km/s]</th>\n",
       "      <th>Plasma beta</th>\n",
       "      <th>Alfven Mach number</th>\n",
       "      <th>Quasi invariant</th>\n",
       "      <th>Magnetosonic Mach number</th>\n",
       "      <th>SW plasma flow lat. angle [deg]</th>\n",
       "      <th>SW plasma flow long. angle [deg]</th>\n",
       "      <th>Proton Density [n/cc]</th>\n",
       "      <th>Alpha Proton ratio</th>\n",
       "      <th>Proton Temperature [K]</th>\n",
       "      <th>Flow Pressure [nPa]</th>\n",
       "      <th>Electric Field [mV/m]</th>\n",
       "      <th>Vx Velocity [km/s]</th>\n",
       "      <th>Vy Velocity [km/s]</th>\n",
       "      <th>Vz Velocity [km/s]</th>\n",
       "      <th>F10.7 index [sfu]</th>\n",
       "      <th>R sunspot number</th>\n",
       "      <th>Solar Lyman alpha</th>\n",
       "    </tr>\n",
       "    <tr>\n",
       "      <th>DateTime</th>\n",
       "      <th></th>\n",
       "      <th></th>\n",
       "      <th></th>\n",
       "      <th></th>\n",
       "      <th></th>\n",
       "      <th></th>\n",
       "      <th></th>\n",
       "      <th></th>\n",
       "      <th></th>\n",
       "      <th></th>\n",
       "      <th></th>\n",
       "      <th></th>\n",
       "      <th></th>\n",
       "      <th></th>\n",
       "      <th></th>\n",
       "      <th></th>\n",
       "      <th></th>\n",
       "      <th></th>\n",
       "      <th></th>\n",
       "      <th></th>\n",
       "      <th></th>\n",
       "      <th></th>\n",
       "      <th></th>\n",
       "      <th></th>\n",
       "      <th></th>\n",
       "      <th></th>\n",
       "      <th></th>\n",
       "      <th></th>\n",
       "      <th></th>\n",
       "      <th></th>\n",
       "      <th></th>\n",
       "      <th></th>\n",
       "      <th></th>\n",
       "      <th></th>\n",
       "      <th></th>\n",
       "      <th></th>\n",
       "    </tr>\n",
       "  </thead>\n",
       "  <tbody>\n",
       "    <tr>\n",
       "      <th>2000-01-01 01:00:00</th>\n",
       "      <td>53.00000</td>\n",
       "      <td>-37.00000</td>\n",
       "      <td>56.00000</td>\n",
       "      <td>167.00000</td>\n",
       "      <td>-146.00000</td>\n",
       "      <td>313.00000</td>\n",
       "      <td>3.90000</td>\n",
       "      <td>-3.70000</td>\n",
       "      <td>2.20000</td>\n",
       "      <td>12.12552</td>\n",
       "      <td>-0.72069</td>\n",
       "      <td>0.27362</td>\n",
       "      <td>28.95000</td>\n",
       "      <td>36.33333</td>\n",
       "      <td>-1.00000</td>\n",
       "      <td>-35.00000</td>\n",
       "      <td>7.80000</td>\n",
       "      <td>-4.90000</td>\n",
       "      <td>677.00000</td>\n",
       "      <td>0.77000</td>\n",
       "      <td>7.00000</td>\n",
       "      <td>0.02430</td>\n",
       "      <td>5.40000</td>\n",
       "      <td>-0.50000</td>\n",
       "      <td>0.50000</td>\n",
       "      <td>2.60000</td>\n",
       "      <td>NaN</td>\n",
       "      <td>302235.00000</td>\n",
       "      <td>2.38000</td>\n",
       "      <td>1.83000</td>\n",
       "      <td>-676.00200</td>\n",
       "      <td>8.85200</td>\n",
       "      <td>-13.02400</td>\n",
       "      <td>125.60000</td>\n",
       "      <td>71.00000</td>\n",
       "      <td>0.00789</td>\n",
       "    </tr>\n",
       "    <tr>\n",
       "      <th>2000-01-01 02:00:00</th>\n",
       "      <td>53.00000</td>\n",
       "      <td>-37.00000</td>\n",
       "      <td>56.00000</td>\n",
       "      <td>137.00000</td>\n",
       "      <td>-422.00000</td>\n",
       "      <td>559.00000</td>\n",
       "      <td>4.90000</td>\n",
       "      <td>-2.60000</td>\n",
       "      <td>4.40000</td>\n",
       "      <td>12.15404</td>\n",
       "      <td>-0.56456</td>\n",
       "      <td>0.05877</td>\n",
       "      <td>33.51667</td>\n",
       "      <td>38.05000</td>\n",
       "      <td>9.56667</td>\n",
       "      <td>-36.26667</td>\n",
       "      <td>7.60000</td>\n",
       "      <td>-2.70000</td>\n",
       "      <td>708.00000</td>\n",
       "      <td>0.76000</td>\n",
       "      <td>6.90000</td>\n",
       "      <td>0.02490</td>\n",
       "      <td>5.40000</td>\n",
       "      <td>-1.00000</td>\n",
       "      <td>-0.20000</td>\n",
       "      <td>2.20000</td>\n",
       "      <td>NaN</td>\n",
       "      <td>349786.00000</td>\n",
       "      <td>2.21000</td>\n",
       "      <td>1.13000</td>\n",
       "      <td>-710.50000</td>\n",
       "      <td>1.71481</td>\n",
       "      <td>-4.02037</td>\n",
       "      <td>125.60000</td>\n",
       "      <td>71.00000</td>\n",
       "      <td>0.00789</td>\n",
       "    </tr>\n",
       "    <tr>\n",
       "      <th>2000-01-01 03:00:00</th>\n",
       "      <td>47.00000</td>\n",
       "      <td>-41.00000</td>\n",
       "      <td>39.00000</td>\n",
       "      <td>138.00000</td>\n",
       "      <td>-429.00000</td>\n",
       "      <td>567.00000</td>\n",
       "      <td>2.90000</td>\n",
       "      <td>-2.80000</td>\n",
       "      <td>6.30000</td>\n",
       "      <td>12.26900</td>\n",
       "      <td>-0.74217</td>\n",
       "      <td>0.09967</td>\n",
       "      <td>38.98333</td>\n",
       "      <td>54.96667</td>\n",
       "      <td>10.16667</td>\n",
       "      <td>-34.00000</td>\n",
       "      <td>7.40000</td>\n",
       "      <td>-3.90000</td>\n",
       "      <td>706.00000</td>\n",
       "      <td>0.78000</td>\n",
       "      <td>6.90000</td>\n",
       "      <td>0.02490</td>\n",
       "      <td>5.30000</td>\n",
       "      <td>-0.70000</td>\n",
       "      <td>1.50000</td>\n",
       "      <td>2.10000</td>\n",
       "      <td>NaN</td>\n",
       "      <td>362297.00000</td>\n",
       "      <td>2.09000</td>\n",
       "      <td>1.62000</td>\n",
       "      <td>-705.49565</td>\n",
       "      <td>10.39130</td>\n",
       "      <td>-8.09783</td>\n",
       "      <td>125.60000</td>\n",
       "      <td>71.00000</td>\n",
       "      <td>0.00789</td>\n",
       "    </tr>\n",
       "    <tr>\n",
       "      <th>2000-01-01 04:00:00</th>\n",
       "      <td>47.00000</td>\n",
       "      <td>-45.00000</td>\n",
       "      <td>39.00000</td>\n",
       "      <td>96.00000</td>\n",
       "      <td>-191.00000</td>\n",
       "      <td>287.00000</td>\n",
       "      <td>1.80000</td>\n",
       "      <td>-1.40000</td>\n",
       "      <td>3.70000</td>\n",
       "      <td>12.44879</td>\n",
       "      <td>-1.04810</td>\n",
       "      <td>0.55000</td>\n",
       "      <td>24.80000</td>\n",
       "      <td>35.60000</td>\n",
       "      <td>9.13333</td>\n",
       "      <td>-38.35000</td>\n",
       "      <td>7.00000</td>\n",
       "      <td>-3.50000</td>\n",
       "      <td>721.00000</td>\n",
       "      <td>0.95000</td>\n",
       "      <td>7.30000</td>\n",
       "      <td>0.02240</td>\n",
       "      <td>5.40000</td>\n",
       "      <td>-2.50000</td>\n",
       "      <td>1.80000</td>\n",
       "      <td>2.00000</td>\n",
       "      <td>NaN</td>\n",
       "      <td>429384.00000</td>\n",
       "      <td>2.08000</td>\n",
       "      <td>0.87000</td>\n",
       "      <td>-717.42250</td>\n",
       "      <td>25.68500</td>\n",
       "      <td>-27.89000</td>\n",
       "      <td>125.60000</td>\n",
       "      <td>71.00000</td>\n",
       "      <td>0.00789</td>\n",
       "    </tr>\n",
       "    <tr>\n",
       "      <th>2000-01-01 05:00:00</th>\n",
       "      <td>47.00000</td>\n",
       "      <td>-39.00000</td>\n",
       "      <td>39.00000</td>\n",
       "      <td>73.00000</td>\n",
       "      <td>-68.00000</td>\n",
       "      <td>140.00000</td>\n",
       "      <td>0.90000</td>\n",
       "      <td>-1.40000</td>\n",
       "      <td>1.40000</td>\n",
       "      <td>12.56621</td>\n",
       "      <td>-1.39828</td>\n",
       "      <td>0.65431</td>\n",
       "      <td>24.88333</td>\n",
       "      <td>23.33333</td>\n",
       "      <td>6.78333</td>\n",
       "      <td>-34.98333</td>\n",
       "      <td>6.70000</td>\n",
       "      <td>-3.70000</td>\n",
       "      <td>723.00000</td>\n",
       "      <td>1.01000</td>\n",
       "      <td>7.60000</td>\n",
       "      <td>0.02040</td>\n",
       "      <td>5.60000</td>\n",
       "      <td>-1.90000</td>\n",
       "      <td>3.30000</td>\n",
       "      <td>2.00000</td>\n",
       "      <td>NaN</td>\n",
       "      <td>416524.00000</td>\n",
       "      <td>2.09000</td>\n",
       "      <td>1.01000</td>\n",
       "      <td>-715.44528</td>\n",
       "      <td>52.66038</td>\n",
       "      <td>-36.73962</td>\n",
       "      <td>125.60000</td>\n",
       "      <td>71.00000</td>\n",
       "      <td>0.00789</td>\n",
       "    </tr>\n",
       "  </tbody>\n",
       "</table>\n",
       "</div>"
      ],
      "text/plain": [
       "                     Kp index  Dst index  Ap index  AU index   AL index  AE index  BX_GSE [nT]  BY_GSE [nT]  BZ_GSE [nT]  PC(N) index [mV/m]  BSN Xgse [Re]  BSN Ygse [Re]  BSN Zgse [Re]  ASY/D [nT]  ASY/H [nT]  SYM/D [nT]  SYM/H [nT]  IMF [nT]  SW Speed [km/s]  Plasma beta  Alfven Mach number  Quasi invariant  Magnetosonic Mach number  SW plasma flow lat. angle [deg]  SW plasma flow long. angle [deg]  Proton Density [n/cc]  Alpha Proton ratio  Proton Temperature [K]  Flow Pressure [nPa]  Electric Field [mV/m]  Vx Velocity [km/s]  Vy Velocity [km/s]  Vz Velocity [km/s]  F10.7 index [sfu]  R sunspot number  Solar Lyman alpha\n",
       "DateTime                                                                                                                                                                                                                                                                                                                                                                                                                                                                                                                                                                                                                                              \n",
       "2000-01-01 01:00:00  53.00000  -37.00000  56.00000 167.00000 -146.00000 313.00000      3.90000     -3.70000      2.20000            12.12552       -0.72069        0.27362       28.95000    36.33333    -1.00000   -35.00000     7.80000  -4.90000        677.00000      0.77000             7.00000          0.02430                   5.40000                         -0.50000                           0.50000                2.60000                 NaN            302235.00000              2.38000                1.83000          -676.00200             8.85200           -13.02400          125.60000          71.00000            0.00789\n",
       "2000-01-01 02:00:00  53.00000  -37.00000  56.00000 137.00000 -422.00000 559.00000      4.90000     -2.60000      4.40000            12.15404       -0.56456        0.05877       33.51667    38.05000     9.56667   -36.26667     7.60000  -2.70000        708.00000      0.76000             6.90000          0.02490                   5.40000                         -1.00000                          -0.20000                2.20000                 NaN            349786.00000              2.21000                1.13000          -710.50000             1.71481            -4.02037          125.60000          71.00000            0.00789\n",
       "2000-01-01 03:00:00  47.00000  -41.00000  39.00000 138.00000 -429.00000 567.00000      2.90000     -2.80000      6.30000            12.26900       -0.74217        0.09967       38.98333    54.96667    10.16667   -34.00000     7.40000  -3.90000        706.00000      0.78000             6.90000          0.02490                   5.30000                         -0.70000                           1.50000                2.10000                 NaN            362297.00000              2.09000                1.62000          -705.49565            10.39130            -8.09783          125.60000          71.00000            0.00789\n",
       "2000-01-01 04:00:00  47.00000  -45.00000  39.00000  96.00000 -191.00000 287.00000      1.80000     -1.40000      3.70000            12.44879       -1.04810        0.55000       24.80000    35.60000     9.13333   -38.35000     7.00000  -3.50000        721.00000      0.95000             7.30000          0.02240                   5.40000                         -2.50000                           1.80000                2.00000                 NaN            429384.00000              2.08000                0.87000          -717.42250            25.68500           -27.89000          125.60000          71.00000            0.00789\n",
       "2000-01-01 05:00:00  47.00000  -39.00000  39.00000  73.00000  -68.00000 140.00000      0.90000     -1.40000      1.40000            12.56621       -1.39828        0.65431       24.88333    23.33333     6.78333   -34.98333     6.70000  -3.70000        723.00000      1.01000             7.60000          0.02040                   5.60000                         -1.90000                           3.30000                2.00000                 NaN            416524.00000              2.09000                1.01000          -715.44528            52.66038           -36.73962          125.60000          71.00000            0.00789"
      ]
     },
     "execution_count": 11,
     "metadata": {},
     "output_type": "execute_result"
    }
   ],
   "source": [
    "all_indexes.head()"
   ]
  },
  {
   "cell_type": "code",
   "execution_count": null,
   "metadata": {},
   "outputs": [],
   "source": [
    "all_indexes=pd.read_csv('divided_data/all_indexes_final.csv')\n",
    "all_indexes=all_indexes.set_index(all_indexes['DateTime'])\n"
   ]
  },
  {
   "cell_type": "markdown",
   "metadata": {},
   "source": [
    "### head"
   ]
  },
  {
   "cell_type": "code",
   "execution_count": null,
   "metadata": {},
   "outputs": [],
   "source": [
    "geomagnetic_indexes.head()\n"
   ]
  },
  {
   "cell_type": "code",
   "execution_count": null,
   "metadata": {},
   "outputs": [],
   "source": [
    "heliospheric_indexes.head()\n"
   ]
  },
  {
   "cell_type": "code",
   "execution_count": null,
   "metadata": {},
   "outputs": [],
   "source": [
    "solar_indexes.head()"
   ]
  },
  {
   "cell_type": "markdown",
   "metadata": {},
   "source": [
    "### describe"
   ]
  },
  {
   "cell_type": "code",
   "execution_count": null,
   "metadata": {},
   "outputs": [],
   "source": [
    "geomagnetic_indexes.describe()\n"
   ]
  },
  {
   "cell_type": "code",
   "execution_count": null,
   "metadata": {},
   "outputs": [],
   "source": [
    "heliospheric_indexes.describe()\n"
   ]
  },
  {
   "cell_type": "code",
   "execution_count": null,
   "metadata": {},
   "outputs": [],
   "source": [
    "solar_indexes.describe()"
   ]
  },
  {
   "cell_type": "markdown",
   "metadata": {},
   "source": [
    "### number of nan values"
   ]
  },
  {
   "cell_type": "code",
   "execution_count": null,
   "metadata": {},
   "outputs": [],
   "source": [
    "geomagnetic_indexes.isna().sum()\n"
   ]
  },
  {
   "cell_type": "code",
   "execution_count": null,
   "metadata": {},
   "outputs": [],
   "source": [
    "heliospheric_indexes.isna().sum()\n"
   ]
  },
  {
   "cell_type": "code",
   "execution_count": null,
   "metadata": {},
   "outputs": [],
   "source": [
    "solar_indexes.isna().sum()"
   ]
  },
  {
   "cell_type": "markdown",
   "metadata": {},
   "source": [
    "### correlations"
   ]
  },
  {
   "cell_type": "code",
   "execution_count": null,
   "metadata": {},
   "outputs": [],
   "source": [
    "geomagnetic_indexes_corr=geomagnetic_indexes.corr()\n",
    "geomagnetic_indexes_corr.style.background_gradient(cmap='coolwarm')"
   ]
  },
  {
   "cell_type": "code",
   "execution_count": null,
   "metadata": {},
   "outputs": [],
   "source": [
    "heliospheric_indexes_corr=heliospheric_indexes.corr()\n",
    "heliospheric_indexes_corr.style.background_gradient(cmap='coolwarm')\n"
   ]
  },
  {
   "cell_type": "code",
   "execution_count": null,
   "metadata": {},
   "outputs": [],
   "source": [
    "solar_indexes_corr=solar_indexes.corr()\n",
    "solar_indexes_corr.style.background_gradient(cmap='coolwarm')"
   ]
  },
  {
   "cell_type": "code",
   "execution_count": null,
   "metadata": {},
   "outputs": [],
   "source": [
    "all_indexes_corr=all_indexes.corr()\n",
    "all_indexes_corr.style.background_gradient(cmap='coolwarm')"
   ]
  },
  {
   "cell_type": "markdown",
   "metadata": {},
   "source": [
    "## graphs"
   ]
  },
  {
   "cell_type": "markdown",
   "metadata": {},
   "source": [
    "### pre-process"
   ]
  },
  {
   "cell_type": "code",
   "execution_count": 6,
   "metadata": {},
   "outputs": [
    {
     "data": {
      "text/plain": [
       "Index(['DateTime', 'Kp index', 'Dst index', 'Ap index', 'AU index', 'AL index',\n",
       "       'AE index', 'BX_GSE [nT]', 'BY_GSE [nT]', 'BZ_GSE [nT]',\n",
       "       'PC(N) index [mV/m]', 'BSN Xgse [Re]', 'BSN Ygse [Re]', 'BSN Zgse [Re]',\n",
       "       'ASY/D [nT]', 'ASY/H [nT]', 'SYM/D [nT]', 'SYM/H [nT]', 'IMF [nT]',\n",
       "       'SW Speed [km/s]', 'Plasma beta', 'Alfven Mach number',\n",
       "       'Quasi invariant', 'Magnetosonic Mach number',\n",
       "       'SW plasma flow lat. angle [deg]', 'SW plasma flow long. angle [deg]',\n",
       "       'Proton Density [n/cc]', 'Alpha Proton ratio', 'Proton Temperature [K]',\n",
       "       'Flow Pressure [nPa]', 'Electric Field [mV/m]', 'Vx Velocity [km/s]',\n",
       "       'Vy Velocity [km/s]', 'Vz Velocity [km/s]', 'F10.7 index [sfu]',\n",
       "       'R sunspot number', 'Solar Lyman alpha', 'Year'],\n",
       "      dtype='object')"
      ]
     },
     "execution_count": 6,
     "metadata": {},
     "output_type": "execute_result"
    }
   ],
   "source": [
    "all_indexes['DateTime'] = pd.to_datetime(all_indexes['DateTime'])\n",
    "all_indexes['Year'] = all_indexes['DateTime'].dt.year\n",
    "all_indexes.columns"
   ]
  },
  {
   "cell_type": "markdown",
   "metadata": {},
   "source": [
    "### boxplot\n",
    "select index to be plotted"
   ]
  },
  {
   "cell_type": "code",
   "execution_count": 5,
   "metadata": {},
   "outputs": [],
   "source": [
    "selected_index=\"IMF [nT]\""
   ]
  },
  {
   "cell_type": "code",
   "execution_count": 9,
   "metadata": {},
   "outputs": [
    {
     "data": {
      "image/png": "[encoded data removed]",
      "text/plain": [
       "<Figure size 720x216 with 1 Axes>"
      ]
     },
     "metadata": {
      "needs_background": "light"
     },
     "output_type": "display_data"
    }
   ],
   "source": [
    "plot=all_indexes.boxplot(column=selected_index, by='Year', figsize=(10,3), color='blue')\n",
    "plot.set_xlabel('Year', fontsize=15)\n",
    "plot.set_ylabel(selected_index, fontsize=15)\n",
    "plt.xticks(fontsize=12, rotation=90)\n",
    "plt.yticks(fontsize=12)\n",
    "plot.grid(visible=True, linewidth=0.3)\n",
    "plt.suptitle('')\n",
    "plt.title('')\n",
    "plt.show()"
   ]
  },
  {
   "cell_type": "markdown",
   "metadata": {},
   "source": [
    "### histogram\n",
    "select number of bins"
   ]
  },
  {
   "cell_type": "code",
   "execution_count": null,
   "metadata": {},
   "outputs": [],
   "source": [
    "bins=20"
   ]
  },
  {
   "cell_type": "code",
   "execution_count": null,
   "metadata": {},
   "outputs": [],
   "source": [
    "plt.figure(figsize=(30,10))\n",
    "n, bins, patches = plt.hist(x=all_indexes[selected_index], bins=bins, color='#0504aa',\n",
    "                            alpha=0.7, rwidth=0.85)\n",
    "\n",
    "xticks = [(bins[idx+1] + value)/2 for idx, value in enumerate(bins[:-1])]\n",
    "xticks_labels = [ \"{:.2f}\\nto\\n{:.2f}\".format(value, bins[idx+1]) for idx, value in enumerate(bins[:-1])]\n",
    "plt.xticks(xticks, labels = xticks_labels)\n",
    "\n",
    "plt.grid(axis='y', alpha=0.75)\n",
    "maxfreq = n.max()\n",
    "# Set a clean upper y-axis limit.\n",
    "plt.ylim(ymax=np.ceil(maxfreq / 10) * 10 if maxfreq % 10 else maxfreq + 10)"
   ]
  },
  {
   "cell_type": "markdown",
   "metadata": {},
   "source": [
    "### lineplot\n",
    "select year to be plotted"
   ]
  },
  {
   "cell_type": "code",
   "execution_count": null,
   "metadata": {},
   "outputs": [],
   "source": [
    "selected_year=2003"
   ]
  },
  {
   "cell_type": "code",
   "execution_count": null,
   "metadata": {},
   "outputs": [],
   "source": [
    "all_indexes.loc[all_indexes.Year==selected_year][selected_index].plot(subplots=True, figsize=(20,10))\n",
    "plt.show()\n"
   ]
  }
 ],
 "metadata": {
  "kernelspec": {
   "display_name": "envdp",
   "language": "python",
   "name": "envdp"
  },
  "language_info": {
   "codemirror_mode": {
    "name": "ipython",
    "version": 3
   },
   "file_extension": ".py",
   "mimetype": "text/x-python",
   "name": "python",
   "nbconvert_exporter": "python",
   "pygments_lexer": "ipython3",
   "version": "3.10.6"
  },
  "vscode": {
   "interpreter": {
    "hash": "aee8b7b246df8f9039afb4144a1f6fd8d2ca17a180786b69acc140d282b71a49"
   }
  }
 },
 "nbformat": 4,
 "nbformat_minor": 4
}
